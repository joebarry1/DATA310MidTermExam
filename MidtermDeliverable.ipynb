{
 "cells": [
  {
   "cell_type": "markdown",
   "id": "decent-columbus",
   "metadata": {},
   "source": [
    "# Midterm Project"
   ]
  },
  {
   "cell_type": "markdown",
   "id": "contrary-nigeria",
   "metadata": {},
   "source": [
    "First, all of the imports we will need throughout. Note that the data is saved in a .csv file within a separate data folder."
   ]
  },
  {
   "cell_type": "code",
   "execution_count": 1,
   "id": "agreed-colon",
   "metadata": {},
   "outputs": [],
   "source": [
    "import numpy as np\n",
    "import pandas as pd\n",
    "from sklearn import linear_model as lm\n",
    "from sklearn.metrics import mean_squared_error\n",
    "from sklearn.linear_model import Ridge, Lasso, ElasticNet\n",
    "from sklearn.model_selection import KFold\n",
    "from sklearn.preprocessing import StandardScaler\n",
    "from sklearn.ensemble import RandomForestRegressor\n",
    "from sklearn.preprocessing import PolynomialFeatures\n",
    "from sklearn.linear_model import LinearRegression\n",
    "from sklearn.ensemble import RandomForestRegressor\n",
    "import matplotlib.pyplot as plt"
   ]
  },
  {
   "cell_type": "markdown",
   "id": "drawn-camera",
   "metadata": {},
   "source": [
    "**Note:** Unfortunately, since I cannot see the questions after submission, some may be mislabeled. I did my best to recreate them as I remembered."
   ]
  },
  {
   "cell_type": "markdown",
   "id": "later-fiction",
   "metadata": {},
   "source": [
    "### Q1"
   ]
  },
  {
   "cell_type": "markdown",
   "id": "healthy-petersburg",
   "metadata": {},
   "source": [
    "We will read in the data and use the *shape* function to determine the number of rows. This will be the number of observations."
   ]
  },
  {
   "cell_type": "code",
   "execution_count": 2,
   "id": "piano-malpractice",
   "metadata": {},
   "outputs": [
    {
     "data": {
      "text/plain": [
       "(96453, 12)"
      ]
     },
     "execution_count": 2,
     "metadata": {},
     "output_type": "execute_result"
    }
   ],
   "source": [
    "raw = pd.read_csv('./data/weatherHistory.csv')\n",
    "raw.shape"
   ]
  },
  {
   "cell_type": "markdown",
   "id": "ordinary-moore",
   "metadata": {},
   "source": [
    "We have 96,453 observations."
   ]
  },
  {
   "cell_type": "markdown",
   "id": "elect-sample",
   "metadata": {},
   "source": [
    "### Q2"
   ]
  },
  {
   "cell_type": "markdown",
   "id": "mathematical-saskatchewan",
   "metadata": {},
   "source": [
    "We are asked to determine how many of the columns contain nominal data. We can check the column names and first few entries with the *head* function."
   ]
  },
  {
   "cell_type": "code",
   "execution_count": 3,
   "id": "documented-august",
   "metadata": {},
   "outputs": [
    {
     "data": {
      "text/html": [
       "<div>\n",
       "<style scoped>\n",
       "    .dataframe tbody tr th:only-of-type {\n",
       "        vertical-align: middle;\n",
       "    }\n",
       "\n",
       "    .dataframe tbody tr th {\n",
       "        vertical-align: top;\n",
       "    }\n",
       "\n",
       "    .dataframe thead th {\n",
       "        text-align: right;\n",
       "    }\n",
       "</style>\n",
       "<table border=\"1\" class=\"dataframe\">\n",
       "  <thead>\n",
       "    <tr style=\"text-align: right;\">\n",
       "      <th></th>\n",
       "      <th>Formatted Date</th>\n",
       "      <th>Summary</th>\n",
       "      <th>Precip Type</th>\n",
       "      <th>Temperature (C)</th>\n",
       "      <th>Apparent Temperature (C)</th>\n",
       "      <th>Humidity</th>\n",
       "      <th>Wind Speed (km/h)</th>\n",
       "      <th>Wind Bearing (degrees)</th>\n",
       "      <th>Visibility (km)</th>\n",
       "      <th>Loud Cover</th>\n",
       "      <th>Pressure (millibars)</th>\n",
       "      <th>Daily Summary</th>\n",
       "    </tr>\n",
       "  </thead>\n",
       "  <tbody>\n",
       "    <tr>\n",
       "      <th>0</th>\n",
       "      <td>2006-04-01 00:00:00.000 +0200</td>\n",
       "      <td>Partly Cloudy</td>\n",
       "      <td>rain</td>\n",
       "      <td>9.472222</td>\n",
       "      <td>7.388889</td>\n",
       "      <td>0.89</td>\n",
       "      <td>14.1197</td>\n",
       "      <td>251.0</td>\n",
       "      <td>15.8263</td>\n",
       "      <td>0.0</td>\n",
       "      <td>1015.13</td>\n",
       "      <td>Partly cloudy throughout the day.</td>\n",
       "    </tr>\n",
       "    <tr>\n",
       "      <th>1</th>\n",
       "      <td>2006-04-01 01:00:00.000 +0200</td>\n",
       "      <td>Partly Cloudy</td>\n",
       "      <td>rain</td>\n",
       "      <td>9.355556</td>\n",
       "      <td>7.227778</td>\n",
       "      <td>0.86</td>\n",
       "      <td>14.2646</td>\n",
       "      <td>259.0</td>\n",
       "      <td>15.8263</td>\n",
       "      <td>0.0</td>\n",
       "      <td>1015.63</td>\n",
       "      <td>Partly cloudy throughout the day.</td>\n",
       "    </tr>\n",
       "    <tr>\n",
       "      <th>2</th>\n",
       "      <td>2006-04-01 02:00:00.000 +0200</td>\n",
       "      <td>Mostly Cloudy</td>\n",
       "      <td>rain</td>\n",
       "      <td>9.377778</td>\n",
       "      <td>9.377778</td>\n",
       "      <td>0.89</td>\n",
       "      <td>3.9284</td>\n",
       "      <td>204.0</td>\n",
       "      <td>14.9569</td>\n",
       "      <td>0.0</td>\n",
       "      <td>1015.94</td>\n",
       "      <td>Partly cloudy throughout the day.</td>\n",
       "    </tr>\n",
       "    <tr>\n",
       "      <th>3</th>\n",
       "      <td>2006-04-01 03:00:00.000 +0200</td>\n",
       "      <td>Partly Cloudy</td>\n",
       "      <td>rain</td>\n",
       "      <td>8.288889</td>\n",
       "      <td>5.944444</td>\n",
       "      <td>0.83</td>\n",
       "      <td>14.1036</td>\n",
       "      <td>269.0</td>\n",
       "      <td>15.8263</td>\n",
       "      <td>0.0</td>\n",
       "      <td>1016.41</td>\n",
       "      <td>Partly cloudy throughout the day.</td>\n",
       "    </tr>\n",
       "    <tr>\n",
       "      <th>4</th>\n",
       "      <td>2006-04-01 04:00:00.000 +0200</td>\n",
       "      <td>Mostly Cloudy</td>\n",
       "      <td>rain</td>\n",
       "      <td>8.755556</td>\n",
       "      <td>6.977778</td>\n",
       "      <td>0.83</td>\n",
       "      <td>11.0446</td>\n",
       "      <td>259.0</td>\n",
       "      <td>15.8263</td>\n",
       "      <td>0.0</td>\n",
       "      <td>1016.51</td>\n",
       "      <td>Partly cloudy throughout the day.</td>\n",
       "    </tr>\n",
       "  </tbody>\n",
       "</table>\n",
       "</div>"
      ],
      "text/plain": [
       "                  Formatted Date        Summary Precip Type  Temperature (C)  \\\n",
       "0  2006-04-01 00:00:00.000 +0200  Partly Cloudy        rain         9.472222   \n",
       "1  2006-04-01 01:00:00.000 +0200  Partly Cloudy        rain         9.355556   \n",
       "2  2006-04-01 02:00:00.000 +0200  Mostly Cloudy        rain         9.377778   \n",
       "3  2006-04-01 03:00:00.000 +0200  Partly Cloudy        rain         8.288889   \n",
       "4  2006-04-01 04:00:00.000 +0200  Mostly Cloudy        rain         8.755556   \n",
       "\n",
       "   Apparent Temperature (C)  Humidity  Wind Speed (km/h)  \\\n",
       "0                  7.388889      0.89            14.1197   \n",
       "1                  7.227778      0.86            14.2646   \n",
       "2                  9.377778      0.89             3.9284   \n",
       "3                  5.944444      0.83            14.1036   \n",
       "4                  6.977778      0.83            11.0446   \n",
       "\n",
       "   Wind Bearing (degrees)  Visibility (km)  Loud Cover  Pressure (millibars)  \\\n",
       "0                   251.0          15.8263         0.0               1015.13   \n",
       "1                   259.0          15.8263         0.0               1015.63   \n",
       "2                   204.0          14.9569         0.0               1015.94   \n",
       "3                   269.0          15.8263         0.0               1016.41   \n",
       "4                   259.0          15.8263         0.0               1016.51   \n",
       "\n",
       "                       Daily Summary  \n",
       "0  Partly cloudy throughout the day.  \n",
       "1  Partly cloudy throughout the day.  \n",
       "2  Partly cloudy throughout the day.  \n",
       "3  Partly cloudy throughout the day.  \n",
       "4  Partly cloudy throughout the day.  "
      ]
     },
     "execution_count": 3,
     "metadata": {},
     "output_type": "execute_result"
    }
   ],
   "source": [
    "raw.head()"
   ]
  },
  {
   "cell_type": "markdown",
   "id": "geographic-bristol",
   "metadata": {},
   "source": [
    "It seems clear that the only non-numeric data is under the columns *Summary*, *Precip Type*, and *Daily Summary*. So, we have 3 columns containing nominal data."
   ]
  },
  {
   "cell_type": "markdown",
   "id": "active-disease",
   "metadata": {},
   "source": [
    "### Q3"
   ]
  },
  {
   "cell_type": "markdown",
   "id": "turkish-fleet",
   "metadata": {},
   "source": [
    "We are trying to predict Humidity using the Temperature data. In order ot do this, we will first initialize a model and fit it in order to find the root mean square error. This will be calculated with the function from *sklearn*."
   ]
  },
  {
   "cell_type": "code",
   "execution_count": 6,
   "id": "periodic-chambers",
   "metadata": {},
   "outputs": [
    {
     "name": "stdout",
     "output_type": "stream",
     "text": [
      "0.1514437964005473\n"
     ]
    }
   ],
   "source": [
    "xtemp = raw['Temperature (C)'].values.reshape(-1,1)\n",
    "yhum = raw['Humidity'].values.reshape(-1,1)\n",
    "\n",
    "lin_reg = lm.LinearRegression()\n",
    "model = lin_reg.fit(xtemp,yhum)\n",
    "y_pred = model.predict(xtemp)\n",
    "rmse = np.sqrt(mean_squared_error(yhum,y_pred))\n",
    "\n",
    "print(rmse)"
   ]
  },
  {
   "cell_type": "markdown",
   "id": "refined-pregnancy",
   "metadata": {},
   "source": [
    "Our RMSE is *.151444*."
   ]
  },
  {
   "cell_type": "markdown",
   "id": "tight-yesterday",
   "metadata": {},
   "source": [
    "### Q4"
   ]
  },
  {
   "cell_type": "markdown",
   "id": "handled-walter",
   "metadata": {},
   "source": [
    "In this question, we have to scale the data, then use Ridge regression and k-fold cross validation to find the average RMSE of the model on the testing data."
   ]
  },
  {
   "cell_type": "code",
   "execution_count": 7,
   "id": "planned-dividend",
   "metadata": {},
   "outputs": [
    {
     "name": "stdout",
     "output_type": "stream",
     "text": [
      "0.15143825148164675\n"
     ]
    }
   ],
   "source": [
    "scale = StandardScaler()\n",
    "xStemp = scale.fit_transform(xtemp)\n",
    "\n",
    "kf = KFold(n_splits=20, random_state=2020,shuffle=True)\n",
    "\n",
    "rid_reg = Ridge(alpha = .1, random_state=2020)\n",
    "\n",
    "RMSE_test = []\n",
    "for idxTrain,idxTest in kf.split(xStemp):\n",
    "    Xtrain = xStemp[idxTrain,:]\n",
    "    Xtest = xStemp[idxTest,:]\n",
    "    ytrain = yhum[idxTrain]\n",
    "    ytest = yhum[idxTest]\n",
    "    rid_reg.fit(Xtrain,ytrain)\n",
    "    y_test_pred = rid_reg.predict(Xtest)\n",
    "    RMSE_test.append(np.sqrt(mean_squared_error(y_test_pred,ytest)))\n",
    "    \n",
    "print(np.mean(RMSE_test))"
   ]
  },
  {
   "cell_type": "markdown",
   "id": "intensive-jewel",
   "metadata": {},
   "source": [
    "Our RMSE is *.151438*."
   ]
  },
  {
   "cell_type": "markdown",
   "id": "objective-encoding",
   "metadata": {},
   "source": [
    "### Q5"
   ]
  },
  {
   "cell_type": "markdown",
   "id": "statewide-postage",
   "metadata": {},
   "source": [
    "In this question, we utilize a random forest model to predict, once again using k-fold cross validation and the testing data RMSE to check the efficacy of the model."
   ]
  },
  {
   "cell_type": "code",
   "execution_count": 8,
   "id": "younger-crash",
   "metadata": {},
   "outputs": [
    {
     "name": "stdout",
     "output_type": "stream",
     "text": [
      "0.14093807584122123\n"
     ]
    }
   ],
   "source": [
    "RF_reg = RandomForestRegressor(n_estimators = 100, max_depth = 50, random_state = 1693)\n",
    "\n",
    "kf = KFold(n_splits=10, random_state=1693,shuffle=True)\n",
    "\n",
    "RMSE_test2 = []\n",
    "for idxTrain,idxTest in kf.split(xtemp):\n",
    "    Xtrain = xtemp[idxTrain,:]\n",
    "    Xtest = xtemp[idxTest,:]\n",
    "    ytrain = yhum[idxTrain]\n",
    "    ytest = yhum[idxTest]\n",
    "    RF_reg.fit(Xtrain,ytrain.ravel())\n",
    "    y_test_pred = RF_reg.predict(Xtest)\n",
    "    RMSE_test2.append(np.sqrt(mean_squared_error(y_test_pred, ytest)))\n",
    "    \n",
    "print(np.mean(RMSE_test2))"
   ]
  },
  {
   "cell_type": "markdown",
   "id": "oriented-victor",
   "metadata": {},
   "source": [
    "Our RMSE is *.140938*."
   ]
  },
  {
   "cell_type": "markdown",
   "id": "faced-technical",
   "metadata": {},
   "source": [
    "### Q6"
   ]
  },
  {
   "cell_type": "markdown",
   "id": "infrared-companion",
   "metadata": {},
   "source": [
    "In this question, we look at the 6th degree polynomial transformation of the data to find the testing RMSE."
   ]
  },
  {
   "cell_type": "code",
   "execution_count": 9,
   "id": "fatal-happening",
   "metadata": {},
   "outputs": [
    {
     "name": "stdout",
     "output_type": "stream",
     "text": [
      "0.1421087019985138\n"
     ]
    }
   ],
   "source": [
    "model = LinearRegression()\n",
    "polynomial_features= PolynomialFeatures(degree=6)\n",
    "X_poly = polynomial_features.fit_transform(xtemp)\n",
    "\n",
    "kf = KFold(n_splits=10, random_state=1693,shuffle=True)\n",
    "\n",
    "RMSE_test3 = []\n",
    "for idxTrain,idxTest in kf.split(xtemp):\n",
    "    Xtrain = xtemp[idxTrain,:]\n",
    "    Xtest = xtemp[idxTest,:]\n",
    "    ytrain = yhum[idxTrain]\n",
    "    ytest = yhum[idxTest]\n",
    "    X_poly_train = polynomial_features.fit_transform(Xtrain)\n",
    "    X_poly_test = polynomial_features.fit_transform(Xtest)\n",
    "    model.fit(X_poly_train,ytrain)\n",
    "    y_test_pred = model.predict(X_poly_test)\n",
    "    RMSE_test3.append(np.sqrt(mean_squared_error(y_test_pred, ytest)))\n",
    "    \n",
    "print(np.mean(RMSE_test3))"
   ]
  },
  {
   "cell_type": "markdown",
   "id": "expired-spiritual",
   "metadata": {},
   "source": [
    "Our RMSE is *.142109*."
   ]
  },
  {
   "cell_type": "markdown",
   "id": "pacific-parameter",
   "metadata": {},
   "source": [
    "### Q7"
   ]
  },
  {
   "cell_type": "markdown",
   "id": "better-dispute",
   "metadata": {},
   "source": [
    "In this question, we scale the data, then perform Ridge regression. However, unlike *Q4*, we are using an $\\alpha$ value of *.2*."
   ]
  },
  {
   "cell_type": "code",
   "execution_count": 10,
   "id": "organized-british",
   "metadata": {},
   "outputs": [
    {
     "name": "stdout",
     "output_type": "stream",
     "text": [
      "0.1514458793622936\n"
     ]
    }
   ],
   "source": [
    "scale = StandardScaler()\n",
    "\n",
    "kf = KFold(n_splits=10, random_state=1234,shuffle=True)\n",
    "rid_reg = Ridge(alpha = .2, random_state=1234)\n",
    "\n",
    "RMSE_test4 = []\n",
    "for idxTrain,idxTest in kf.split(xtemp):\n",
    "    Xtrain = xtemp[idxTrain,:]\n",
    "    Xtest = xtemp[idxTest,:]\n",
    "    ytrain = yhum[idxTrain]\n",
    "    ytest = yhum[idxTest]\n",
    "    Xtrain = scale.fit_transform(Xtrain)\n",
    "    Xtest = scale.fit_transform(Xtest)\n",
    "    rid_reg.fit(Xtrain,ytrain)\n",
    "    y_test_pred = rid_reg.predict(Xtest)\n",
    "    RMSE_test4.append(np.sqrt(mean_squared_error(y_test_pred,ytest)))\n",
    "    \n",
    "print(np.mean(RMSE_test4))"
   ]
  },
  {
   "cell_type": "markdown",
   "id": "written-duncan",
   "metadata": {},
   "source": [
    "Our RMSE is *.151446*."
   ]
  },
  {
   "cell_type": "markdown",
   "id": "august-niagara",
   "metadata": {},
   "source": [
    "### Q8"
   ]
  },
  {
   "cell_type": "markdown",
   "id": "graduate-series",
   "metadata": {},
   "source": [
    "For the following two questions, we will be using the Humidity, Wind Speed, Atmospheric Pressure, and Wind Bearing to predict Temperature. Our first model will be on the 6th degree polynomial transformation as shown in Q6. However, in this case, we will be making this transformation to the data after it has been split into 10 folds."
   ]
  },
  {
   "cell_type": "code",
   "execution_count": 11,
   "id": "cardiac-tamil",
   "metadata": {},
   "outputs": [
    {
     "name": "stdout",
     "output_type": "stream",
     "text": [
      "6.127033222535402\n"
     ]
    }
   ],
   "source": [
    "ytemp = raw['Temperature (C)'].values.reshape(-1,1)\n",
    "Xcols = raw[[ 'Humidity','Wind Speed (km/h)','Pressure (millibars)','Wind Bearing (degrees)']]\n",
    "\n",
    "model = LinearRegression()\n",
    "polynomial_features= PolynomialFeatures(degree=6)\n",
    "\n",
    "kf = KFold(n_splits=10, random_state=1234,shuffle=True)\n",
    "\n",
    "RMSE_test5 = []\n",
    "for idxTrain,idxTest in kf.split(Xcols):\n",
    "    Xtrain = Xcols.values[idxTrain]\n",
    "    Xtest = Xcols.values[idxTest]\n",
    "    ytrain = ytemp[idxTrain]\n",
    "    ytest = ytemp[idxTest]\n",
    "    X_poly_train = polynomial_features.fit_transform(Xtrain)\n",
    "    X_poly_test = polynomial_features.fit_transform(Xtest)\n",
    "    model.fit(X_poly_train,ytrain)\n",
    "    y_test_pred = model.predict(X_poly_test)\n",
    "    RMSE_test5.append(np.sqrt(mean_squared_error(y_test_pred, ytest)))\n",
    "    \n",
    "print(np.mean(RMSE_test5))"
   ]
  },
  {
   "cell_type": "markdown",
   "id": "lesser-nelson",
   "metadata": {},
   "source": [
    "Our RMSE is *6.127033*."
   ]
  },
  {
   "cell_type": "markdown",
   "id": "collectible-tribute",
   "metadata": {},
   "source": [
    "### Q9"
   ]
  },
  {
   "cell_type": "markdown",
   "id": "continent-tomato",
   "metadata": {},
   "source": [
    "In this question, we are going to find the average RMSE of a random forest model for predicting on the same data."
   ]
  },
  {
   "cell_type": "code",
   "execution_count": 12,
   "id": "interstate-investor",
   "metadata": {},
   "outputs": [
    {
     "name": "stdout",
     "output_type": "stream",
     "text": [
      "5.83140034992053\n"
     ]
    }
   ],
   "source": [
    "from sklearn.ensemble import RandomForestRegressor\n",
    "\n",
    "RF_reg = RandomForestRegressor(n_estimators = 100, max_depth = 50, random_state = 1234)\n",
    "\n",
    "kf = KFold(n_splits=10, random_state=1234,shuffle=True)\n",
    "RMSE_test6 = []\n",
    "for idxTrain,idxTest in kf.split(Xcols):\n",
    "    Xtrain = Xcols.values[idxTrain]\n",
    "    Xtest = Xcols.values[idxTest]\n",
    "    ytrain = ytemp[idxTrain]\n",
    "    ytest = ytemp[idxTest]\n",
    "    RF_reg.fit(Xtrain,ytrain.ravel())\n",
    "    y_test_pred = RF_reg.predict(Xtest)\n",
    "    RMSE_test6.append(np.sqrt(mean_squared_error(y_test_pred, ytest)))\n",
    "    \n",
    "print(np.mean(RMSE_test6))"
   ]
  },
  {
   "cell_type": "markdown",
   "id": "yellow-reynolds",
   "metadata": {},
   "source": [
    "Our RMSE is *5.831400*."
   ]
  },
  {
   "cell_type": "markdown",
   "id": "ethical-georgia",
   "metadata": {},
   "source": [
    "### Q10"
   ]
  },
  {
   "cell_type": "markdown",
   "id": "above-california",
   "metadata": {},
   "source": [
    "To answer this question, we simply need to plot temperature and humidity against each other and look for a trend."
   ]
  },
  {
   "cell_type": "code",
   "execution_count": 13,
   "id": "opening-product",
   "metadata": {},
   "outputs": [
    {
     "data": {
      "image/png": "[encoded data removed]",
      "text/plain": [
       "<Figure size 432x288 with 1 Axes>"
      ]
     },
     "metadata": {
      "needs_background": "light"
     },
     "output_type": "display_data"
    }
   ],
   "source": [
    "plt.scatter(xtemp, yhum, s = 1)\n",
    "plt.show()"
   ]
  },
  {
   "cell_type": "markdown",
   "id": "global-capability",
   "metadata": {},
   "source": [
    "We can clearly see a negative relationship between our two variables."
   ]
  },
  {
   "cell_type": "code",
   "execution_count": null,
   "id": "industrial-course",
   "metadata": {},
   "outputs": [],
   "source": []
  }
 ],
 "metadata": {
  "kernelspec": {
   "display_name": "Python 3",
   "language": "python",
   "name": "python3"
  },
  "language_info": {
   "codemirror_mode": {
    "name": "ipython",
    "version": 3
   },
   "file_extension": ".py",
   "mimetype": "text/x-python",
   "name": "python",
   "nbconvert_exporter": "python",
   "pygments_lexer": "ipython3",
   "version": "3.8.8"
  }
 },
 "nbformat": 4,
 "nbformat_minor": 5
}
